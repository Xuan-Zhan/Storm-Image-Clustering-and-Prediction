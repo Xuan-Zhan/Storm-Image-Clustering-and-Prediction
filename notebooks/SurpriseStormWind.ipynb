{
  "cells": [
    {
      "cell_type": "markdown",
      "metadata": {
        "id": "IzZhaClGO5xD"
      },
      "source": [
        "# Windspeed Prediction for Surprise Storm"
      ]
    },
    {
      "cell_type": "code",
      "execution_count": 1,
      "metadata": {
        "id": "HS2yj484zZF-"
      },
      "outputs": [],
      "source": [
        "import torch\n",
        "import torch.nn as nn\n",
        "from torch.utils.data import DataLoader, Subset\n",
        "from torch.optim import Adam\n",
        "\n",
        "from ipywidgets import widgets, HBox\n",
        "from torchvision.transforms import functional as TF\n",
        "from torchvision import transforms\n",
        "from PIL import Image\n",
        "import pandas as pd\n",
        "import matplotlib.pyplot as plt\n",
        "from prediction import *"
      ]
    },
    {
      "cell_type": "markdown",
      "metadata": {
        "id": "LXs9J0YJPJpJ"
      },
      "source": [
        "This is the hurricane dataset class. See other notebook for clarity on why it is written the way it is and why it differs from the data set class for the image generation task."
      ]
    },
    {
      "cell_type": "markdown",
      "metadata": {
        "id": "Z-cHxMsTPXGI"
      },
      "source": [
        "Below you can see the model architecture."
      ]
    },
    {
      "cell_type": "code",
      "execution_count": null,
      "metadata": {},
      "outputs": [],
      "source": [
        "device = torch.device('cuda' if torch.cuda.is_available() else 'cpu')"
      ]
    },
    {
      "cell_type": "markdown",
      "metadata": {
        "id": "lozVHtTzP1a9"
      },
      "source": [
        "## Data Loading\n",
        "Creating a train set and loading it. Validation split is 0, ie there is no validation set. Idea is to overfit on the given data for the given storm so predictions for the windspeeds are only based on the storm given."
      ]
    },
    {
      "cell_type": "markdown",
      "metadata": {},
      "source": [
        "Our training data for the surprise storm only consisted of the surprise storm. We tried training on similar storm and then on the surprise storm but got better results when overfitting on this surprise storm.\n",
        "\n",
        "We believe the predicted windspeeds match the images of the surprise. The images seem to show the storm dispersing. This is also shown in our predicted windspeed which have a downwards trend as seen on the plot on the right."
      ]
    },
    {
      "cell_type": "code",
      "execution_count": null,
      "metadata": {},
      "outputs": [],
      "source": [
        "from torch.utils.data import Subset, DataLoader\n",
        "import numpy as np\n",
        "\n",
        "np.random.seed(42)\n",
        "\n",
        "def train_val_dataset(dataset, val_split=0.0):\n",
        "    total_size = len(dataset)\n",
        "    val_size = int(total_size * val_split)\n",
        "    train_size = total_size - val_size\n",
        "\n",
        "    indices = np.arange(total_size)\n",
        "    train_indices = indices[:train_size]\n",
        "    val_indices = indices[train_size:]\n",
        "\n",
        "    np.random.shuffle(train_indices)\n",
        "    np.random.shuffle(val_indices)\n",
        "\n",
        "    datasets = {'train': Subset(dataset, train_indices), 'val': Subset(dataset, val_indices)}\n",
        "    return datasets\n",
        "\n",
        "def collate(batch):\n",
        "    images = torch.stack([item[0] for item in batch], dim=0)\n",
        "    labels = torch.tensor([float(item[1]) for item in batch], dtype=torch.float32)\n",
        "    return images, labels\n",
        "\n",
        "dataset = HurricaneDataset(image_folder='/content/train/tst_train', image_size=(64, 64), channels=1)\n",
        "datasets = train_val_dataset(dataset)\n",
        "\n",
        "train_loader = DataLoader(datasets['train'], batch_size=32, shuffle=True, collate_fn=collate)\n",
        "val_loader = DataLoader(datasets['val'], batch_size=32, shuffle=False, collate_fn=collate)"
      ]
    },
    {
      "cell_type": "code",
      "execution_count": 10,
      "metadata": {
        "id": "RoGCJS09zZGA"
      },
      "outputs": [],
      "source": [
        "model = Seq2Seq(num_channels=1, num_kernels=64,\n",
        "                kernel_size=(3, 3), padding=(1, 1), activation=\"relu\",\n",
        "                frame_size=(64, 64), num_layers=3, fc_size=1024).to(device)\n",
        "\n",
        "\n",
        "optimizer = Adam(model.parameters(), lr=1e-4)\n",
        "\n",
        "criterion = nn.MSELoss(reduction='mean')"
      ]
    },
    {
      "cell_type": "markdown",
      "metadata": {
        "id": "GSFfpWcEQQ5D"
      },
      "source": [
        "## Model Training"
      ]
    },
    {
      "cell_type": "code",
      "execution_count": 11,
      "metadata": {
        "colab": {
          "base_uri": "https://localhost:8080/",
          "height": 482
        },
        "id": "HD5Ptz_-zZGB",
        "outputId": "63491723-5c11-445c-b7e9-072e9d73b985"
      },
      "outputs": [
        {
          "data": {
            "image/png": "[encoded data removed]",
            "text/plain": [
              "<Figure size 1000x500 with 1 Axes>"
            ]
          },
          "metadata": {},
          "output_type": "display_data"
        },
        {
          "name": "stdout",
          "output_type": "stream",
          "text": [
            "Epoch 150/150, Train Loss: 3.0520\n"
          ]
        }
      ],
      "source": [
        "import matplotlib.pyplot as plt\n",
        "from IPython.display import clear_output\n",
        "import torch\n",
        "\n",
        "def train_model_with_plot(model, train_loader, criterion, optimizer, val_loader=None, num_epochs=25, device='cuda'):\n",
        "    train_losses = []\n",
        "    val_losses = []\n",
        "    best_train_loss = float('inf')\n",
        "\n",
        "    for epoch in range(num_epochs):\n",
        "        model.train()\n",
        "        train_loss = 0.0\n",
        "        for inputs, targets in train_loader:\n",
        "            inputs, targets = inputs.to(device), targets.to(device).view(-1)\n",
        "\n",
        "            optimizer.zero_grad()\n",
        "            outputs = model(inputs).view(-1)\n",
        "\n",
        "            loss = criterion(outputs, targets)\n",
        "            train_loss += loss.item()\n",
        "            loss.backward()\n",
        "            optimizer.step()\n",
        "\n",
        "        train_losses.append(train_loss / len(train_loader))\n",
        "\n",
        "        clear_output(wait=True)\n",
        "        plt.figure(figsize=(10, 5))\n",
        "        plt.plot(train_losses, label='Training Loss')\n",
        "        plt.plot(val_losses, label='Validation Loss')\n",
        "        plt.xlabel('Epoch')\n",
        "        plt.ylabel('Loss')\n",
        "        plt.legend()\n",
        "        plt.show()\n",
        "\n",
        "        print(f\"Epoch {epoch+1}/{num_epochs}, Train Loss: {train_loss / len(train_loader):.4f}\")\n",
        "\n",
        "        if train_loss < best_train_loss:\n",
        "            best_train_loss = train_loss\n",
        "            torch.save(model.state_dict(), '/content/models_real')\n",
        "            print(f\"Saved new best model at epoch {epoch+1}\")\n",
        "\n",
        "train_model_with_plot(model, train_loader, criterion, optimizer, num_epochs=150)\n"
      ]
    },
    {
      "cell_type": "code",
      "execution_count": 2,
      "metadata": {
        "colab": {
          "base_uri": "https://localhost:8080/"
        },
        "id": "MHNYFmctMS6d",
        "outputId": "313ca624-7363-44ac-8564-8efa44333b0c"
      },
      "outputs": [
        {
          "name": "stdout",
          "output_type": "stream",
          "text": [
            "Mounted at /content/drive\n"
          ]
        }
      ],
      "source": [
        "from google.colab import drive\n",
        "drive.mount('/content/drive')"
      ]
    },
    {
      "cell_type": "markdown",
      "metadata": {
        "id": "99mC8cxEUHta"
      },
      "source": [
        "After running the model several times picked the model that seemed to make the most sense when visually inspecting the images and the linear pattern of decreasing windspeeds 10 or so frames before."
      ]
    },
    {
      "cell_type": "code",
      "execution_count": 10,
      "metadata": {
        "colab": {
          "base_uri": "https://localhost:8080/"
        },
        "id": "_NZF9ChCMctx",
        "outputId": "c198d836-0d3a-489e-99c3-373b422d376d"
      },
      "outputs": [
        {
          "data": {
            "text/plain": [
              "<All keys matched successfully>"
            ]
          },
          "execution_count": 10,
          "metadata": {},
          "output_type": "execute_result"
        }
      ],
      "source": [
        "model = Seq2Seq(num_channels=1, num_kernels=64,\n",
        "                kernel_size=(3, 3), padding=(1, 1), activation=\"relu\",\n",
        "                frame_size=(64, 64), num_layers=3, fc_size=1024).to(device)\n",
        "\n",
        "# Load the saved weights\n",
        "model.load_state_dict(torch.load('/content/drive/MyDrive/final_model_64_windspeed'))\n"
      ]
    },
    {
      "cell_type": "markdown",
      "metadata": {},
      "source": [
        "Below is a link to the final weights of the windspeed prediction model. The file is over a GB in size so adding it to the repository is unnecessary. If you have any issues with downloading or accessing the file please contact [Antony Krymski](#Authors).<br>\n",
        "https://drive.google.com/file/d/1-Y5q_6vkOF3gMr3fCXDXpElT0Be5WUoc/view?usp=sharing"
      ]
    },
    {
      "cell_type": "markdown",
      "metadata": {},
      "source": [
        "## Model Predictions on Surprise Storm"
      ]
    },
    {
      "cell_type": "markdown",
      "metadata": {
        "id": "GMZaSDRKUUX0"
      },
      "source": [
        "Running predictions on test set which is all the images and json files for the last 10 windspeeds but no labels."
      ]
    },
    {
      "cell_type": "code",
      "execution_count": 47,
      "metadata": {
        "id": "q2SX-g-FMzeg"
      },
      "outputs": [],
      "source": [
        "def get_predictions(model, data_loader, device='cuda'):\n",
        "    model.eval()\n",
        "    predictions = []\n",
        "    image_filenames = []\n",
        "\n",
        "    prefix_to_remove = '/content/test_data_new/tst_test/'\n",
        "\n",
        "    with torch.no_grad():\n",
        "        for data in data_loader:\n",
        "            if len(data) == 2:\n",
        "                inputs, filenames = data\n",
        "                targets = None\n",
        "            else:\n",
        "                inputs, targets, filenames = data\n",
        "\n",
        "            inputs = inputs.to(device)\n",
        "            outputs = model(inputs)\n",
        "\n",
        "            predictions.extend(outputs.view(-1).cpu().numpy())\n",
        "            image_filenames.extend([filename.replace(prefix_to_remove, '') for filename in filenames])\n",
        "\n",
        "    return image_filenames, predictions\n",
        "\n",
        "test_dataset = HurricaneDataset(image_folder='/content/test_data_new/tst_test', image_size=(64, 64), mode='test')\n",
        "test_loader = DataLoader(test_dataset, batch_size=64, shuffle=False)\n",
        "\n",
        "image_filenames, predicted_wind_speeds = get_predictions(model, test_loader)\n"
      ]
    },
    {
      "cell_type": "code",
      "execution_count": 48,
      "metadata": {
        "colab": {
          "base_uri": "https://localhost:8080/"
        },
        "id": "lipkwKY6Mzeg",
        "outputId": "30fbc0df-e511-4ebf-b9f0-6321568616df"
      },
      "outputs": [
        {
          "name": "stdout",
          "output_type": "stream",
          "text": [
            "  Image Filename  Predicted Wind Speed\n",
            "0    tst_242.jpg                  59.0\n",
            "1    tst_243.jpg                  58.0\n",
            "2    tst_244.jpg                  57.0\n",
            "3    tst_245.jpg                  56.0\n",
            "4    tst_246.jpg                  56.0\n",
            "5    tst_247.jpg                  54.0\n",
            "6    tst_248.jpg                  54.0\n",
            "7    tst_249.jpg                  53.0\n",
            "8    tst_250.jpg                  52.0\n",
            "9    tst_251.jpg                  51.0\n"
          ]
        }
      ],
      "source": [
        "data = {\n",
        "    \"Image Filename\": image_filenames,\n",
        "    \"Predicted Wind Speed\": np.round(predicted_wind_speeds)\n",
        "}\n",
        "\n",
        "results_df = pd.DataFrame(data)\n",
        "print(results_df)"
      ]
    },
    {
      "cell_type": "markdown",
      "metadata": {},
      "source": [
        "Below you can see some code to plot the given data and the predicted windspeeds just to be able to visually the trend of the windspeed."
      ]
    },
    {
      "cell_type": "code",
      "execution_count": 22,
      "metadata": {
        "colab": {
          "base_uri": "https://localhost:8080/",
          "height": 410
        },
        "id": "38JMzzP_4S5F",
        "outputId": "97831285-2c0d-45d0-f7e9-efef8ec414b2"
      },
      "outputs": [
        {
          "data": {
            "image/png": "[encoded data removed]",
            "text/plain": [
              "<Figure size 800x400 with 1 Axes>"
            ]
          },
          "metadata": {},
          "output_type": "display_data"
        }
      ],
      "source": [
        "import os\n",
        "import json\n",
        "import numpy as np\n",
        "import matplotlib.pyplot as plt\n",
        "from sklearn.preprocessing import MinMaxScaler\n",
        "\n",
        "additional_time_features = np.array([522000, 523800, 525601, 529199, 530999, 532799, 534599, 536398, 539999, 541799])\n",
        "additional_predicted_wind_speeds = np.array([59.0, 58.0, 57.0, 56.0, 56.0, 54.0, 54.0, 53.0, 52.0, 51.0])\n",
        "\n",
        "directory = '/content/sample_data/train/tst_train'\n",
        "\n",
        "wind_speeds = []\n",
        "time_features = []\n",
        "\n",
        "all_files = sorted(os.listdir(directory))\n",
        "\n",
        "for file in all_files:\n",
        "    if file.endswith('_label.json'):\n",
        "        with open(os.path.join(directory, file), 'r') as f:\n",
        "            label_data = json.load(f)\n",
        "            wind_speeds.append(label_data['wind_speed'])\n",
        "    elif file.endswith('_features.json'):\n",
        "        with open(os.path.join(directory, file), 'r') as f:\n",
        "            features_data = json.load(f)\n",
        "            time_features.append(features_data['relative_time'])  # Replace with actual key\n",
        "\n",
        "wind_speeds_np = np.array(wind_speeds).reshape(-1, 1)\n",
        "time_features_np = np.array(time_features).reshape(-1, 1)\n",
        "\n",
        "time_scaler = MinMaxScaler()\n",
        "wind_speed_scaler = MinMaxScaler()\n",
        "time_scaler.fit(time_features_np)\n",
        "wind_speed_scaler.fit(wind_speeds_np)\n",
        "\n",
        "time_features_scaled = time_scaler.transform(time_features_np)\n",
        "wind_speeds_scaled = wind_speed_scaler.transform(wind_speeds_np)\n",
        "\n",
        "additional_time_features_scaled = time_scaler.transform(additional_time_features.reshape(-1, 1))\n",
        "additional_predicted_wind_speeds_scaled = wind_speed_scaler.transform(additional_predicted_wind_speeds.reshape(-1, 1))\n",
        "\n",
        "plt.figure(figsize=(8, 4))\n",
        "plt.plot(time_features_scaled, wind_speeds_scaled, marker='o', color='blue', label='Actual Wind Speeds')\n",
        "plt.scatter(additional_time_features_scaled, additional_predicted_wind_speeds_scaled, color='red', label='Predicted Wind Speeds')\n",
        "plt.title('Scaled Wind Speed vs Scaled Time Feature')\n",
        "plt.xlabel('Scaled Time Feature')\n",
        "plt.ylabel('Scaled Wind Speed')\n",
        "plt.legend()\n",
        "plt.grid(True)\n",
        "plt.show()\n"
      ]
    },
    {
      "cell_type": "markdown",
      "metadata": {},
      "source": [
        "Above you can see a clear trend that the windspeeds are decreasing. Looking at the overall trend of the plot it makes sense that is the case."
      ]
    },
    {
      "cell_type": "markdown",
      "metadata": {},
      "source": [
        "Getting windspeeds for predicted images from image generation model (see other notebook)."
      ]
    },
    {
      "cell_type": "code",
      "execution_count": 41,
      "metadata": {
        "id": "gcEqdVGTNHIS"
      },
      "outputs": [],
      "source": [
        "def get_predictions(model, data_loader, device='cuda'):\n",
        "    model.eval()\n",
        "    predictions = []\n",
        "    image_filenames = []\n",
        "\n",
        "    prefix_to_remove = '/content/test_genimages/test_genimages/'\n",
        "\n",
        "    with torch.no_grad():\n",
        "        for data in data_loader:\n",
        "            if len(data) == 2:\n",
        "                inputs, filenames = data\n",
        "                targets = None\n",
        "            else:\n",
        "                inputs, targets, filenames = data\n",
        "\n",
        "            inputs = inputs.to(device)\n",
        "            outputs = model(inputs)\n",
        "\n",
        "            predictions.extend(outputs.view(-1).cpu().numpy())\n",
        "            image_filenames.extend([filename.replace(prefix_to_remove, '') for filename in filenames])\n",
        "\n",
        "    return image_filenames, predictions\n",
        "\n",
        "test_dataset = HurricaneDataset(image_folder='/content/test_genimages/test_genimages', image_size=(64, 64), mode='test')\n",
        "test_loader = DataLoader(test_dataset, batch_size=64, shuffle=False)\n",
        "\n",
        "image_filenames, predicted_wind_speeds = get_predictions(model, test_loader)\n"
      ]
    },
    {
      "cell_type": "markdown",
      "metadata": {
        "id": "P-acIVrtPmdX"
      },
      "source": [
        "Final wind speed predictions on generated images can be seen below."
      ]
    },
    {
      "cell_type": "code",
      "execution_count": 42,
      "metadata": {
        "colab": {
          "base_uri": "https://localhost:8080/"
        },
        "id": "Ugz0bgwPNHIT",
        "outputId": "93314940-4654-4782-9350-ca42abf53499"
      },
      "outputs": [
        {
          "name": "stdout",
          "output_type": "stream",
          "text": [
            "  Image Filename  Predicted Wind Speed\n",
            "0    tst_252.jpg                  53.0\n",
            "1    tst_253.jpg                  55.0\n",
            "2    tst_254.jpg                  57.0\n"
          ]
        }
      ],
      "source": [
        "data = {\n",
        "    \"Image Filename\": image_filenames,\n",
        "    \"Predicted Wind Speed\": np.round(predicted_wind_speeds)\n",
        "}\n",
        "\n",
        "results_df = pd.DataFrame(data)\n",
        "print(results_df)"
      ]
    },
    {
      "cell_type": "markdown",
      "metadata": {},
      "source": [
        "Here we can see the pattern deviated and the windspeed started increasing. There are a couple of potential reasons for this:\n",
        "\n",
        "- The quality of the 3 predicted images decreases with each image. This is due to the nature of the image generation model which uses a sliding window and recursively predicts the next image. Therefore, each predicted image is reused as part of the input.\n",
        "- Not only has the quality worsened, but due to the blurriness the images have more grey/white pixels. This may cause the windspeed model to think there are more clouds than there actually are. This results in the model potentially thinking that the cyclone may be starting up again which leads to the increase in windspeed.\n",
        "- It is worth noting that the windspeed do not increase dramatically and looking at previous storms, tropical cyclones can be unpredictable and an uptick near the end of the cyclone is very much plausible."
      ]
    }
  ],
  "metadata": {
    "colab": {
      "provenance": []
    },
    "kernelspec": {
      "display_name": "Python 3",
      "name": "python3"
    },
    "language_info": {
      "codemirror_mode": {
        "name": "ipython",
        "version": 3
      },
      "file_extension": ".py",
      "mimetype": "text/x-python",
      "name": "python",
      "nbconvert_exporter": "python",
      "pygments_lexer": "ipython3",
      "version": "3.11.5"
    }
  },
  "nbformat": 4,
  "nbformat_minor": 0
}
